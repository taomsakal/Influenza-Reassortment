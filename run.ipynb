{
  "nbformat": 4,
  "nbformat_minor": 0,
  "metadata": {
    "colab": {
      "name": "Run.ipynb",
      "provenance": [],
      "collapsed_sections": []
    },
    "kernelspec": {
      "display_name": "Python 3",
      "name": "python3"
    },
    "language_info": {
      "name": "python"
    }
  },
  "cells": [
    {
      "cell_type": "code",
      "metadata": {
        "colab": {
          "base_uri": "https://localhost:8080/"
        },
        "id": "v-XJFmctcqnt",
        "outputId": "ed1a2d3d-ab24-4d59-9fd1-f2a03f099240"
      },
      "source": [
        "!pip install mesa"
      ],
      "execution_count": 14,
      "outputs": [
        {
          "output_type": "stream",
          "text": [
            "Requirement already satisfied: mesa in /usr/local/lib/python3.7/dist-packages (0.8.9)\n",
            "Requirement already satisfied: tornado in /usr/local/lib/python3.7/dist-packages (from mesa) (5.1.1)\n",
            "Requirement already satisfied: click in /usr/local/lib/python3.7/dist-packages (from mesa) (7.1.2)\n",
            "Requirement already satisfied: networkx in /usr/local/lib/python3.7/dist-packages (from mesa) (2.5.1)\n",
            "Requirement already satisfied: tqdm in /usr/local/lib/python3.7/dist-packages (from mesa) (4.41.1)\n",
            "Requirement already satisfied: numpy in /usr/local/lib/python3.7/dist-packages (from mesa) (1.19.5)\n",
            "Requirement already satisfied: pandas in /usr/local/lib/python3.7/dist-packages (from mesa) (1.1.5)\n",
            "Requirement already satisfied: cookiecutter in /usr/local/lib/python3.7/dist-packages (from mesa) (1.7.3)\n",
            "Requirement already satisfied: decorator<5,>=4.3 in /usr/local/lib/python3.7/dist-packages (from networkx->mesa) (4.4.2)\n",
            "Requirement already satisfied: pytz>=2017.2 in /usr/local/lib/python3.7/dist-packages (from pandas->mesa) (2018.9)\n",
            "Requirement already satisfied: python-dateutil>=2.7.3 in /usr/local/lib/python3.7/dist-packages (from pandas->mesa) (2.8.1)\n",
            "Requirement already satisfied: requests>=2.23.0 in /usr/local/lib/python3.7/dist-packages (from cookiecutter->mesa) (2.23.0)\n",
            "Requirement already satisfied: Jinja2<4.0.0,>=2.7 in /usr/local/lib/python3.7/dist-packages (from cookiecutter->mesa) (2.11.3)\n",
            "Requirement already satisfied: python-slugify>=4.0.0 in /usr/local/lib/python3.7/dist-packages (from cookiecutter->mesa) (5.0.2)\n",
            "Requirement already satisfied: poyo>=0.5.0 in /usr/local/lib/python3.7/dist-packages (from cookiecutter->mesa) (0.5.0)\n",
            "Requirement already satisfied: six>=1.10 in /usr/local/lib/python3.7/dist-packages (from cookiecutter->mesa) (1.15.0)\n",
            "Requirement already satisfied: binaryornot>=0.4.4 in /usr/local/lib/python3.7/dist-packages (from cookiecutter->mesa) (0.4.4)\n",
            "Requirement already satisfied: jinja2-time>=0.2.0 in /usr/local/lib/python3.7/dist-packages (from cookiecutter->mesa) (0.2.0)\n",
            "Requirement already satisfied: chardet<4,>=3.0.2 in /usr/local/lib/python3.7/dist-packages (from requests>=2.23.0->cookiecutter->mesa) (3.0.4)\n",
            "Requirement already satisfied: idna<3,>=2.5 in /usr/local/lib/python3.7/dist-packages (from requests>=2.23.0->cookiecutter->mesa) (2.10)\n",
            "Requirement already satisfied: certifi>=2017.4.17 in /usr/local/lib/python3.7/dist-packages (from requests>=2.23.0->cookiecutter->mesa) (2021.5.30)\n",
            "Requirement already satisfied: urllib3!=1.25.0,!=1.25.1,<1.26,>=1.21.1 in /usr/local/lib/python3.7/dist-packages (from requests>=2.23.0->cookiecutter->mesa) (1.24.3)\n",
            "Requirement already satisfied: MarkupSafe>=0.23 in /usr/local/lib/python3.7/dist-packages (from Jinja2<4.0.0,>=2.7->cookiecutter->mesa) (2.0.1)\n",
            "Requirement already satisfied: text-unidecode>=1.3 in /usr/local/lib/python3.7/dist-packages (from python-slugify>=4.0.0->cookiecutter->mesa) (1.3)\n",
            "Requirement already satisfied: arrow in /usr/local/lib/python3.7/dist-packages (from jinja2-time>=0.2.0->cookiecutter->mesa) (1.1.1)\n",
            "Requirement already satisfied: typing-extensions; python_version < \"3.8\" in /usr/local/lib/python3.7/dist-packages (from arrow->jinja2-time>=0.2.0->cookiecutter->mesa) (3.7.4.3)\n"
          ],
          "name": "stdout"
        }
      ]
    },
    {
      "cell_type": "code",
      "metadata": {
        "id": "E8LC91JIb1tX"
      },
      "source": [
        "import random as rand\n",
        "from random import *\n",
        "from sys import implementation\n",
        "import numpy as np\n",
        "import itertools\n",
        "from mesa import Agent, Model\n",
        "from mesa.time import SimultaneousActivation, StagedActivation\n",
        "from mesa.datacollection import DataCollector\n",
        "from mesa.batchrunner import BatchRunner\n",
        "import pandas as pd\n",
        "import json\n",
        "rand.seed(25)"
      ],
      "execution_count": 15,
      "outputs": []
    },
    {
      "cell_type": "code",
      "metadata": {
        "id": "lPxpyKgtb22F"
      },
      "source": [
        "all_viruses = set([tuple(x) for x in itertools.product(range(16),range(9))])\n",
        "\n",
        "infection_table=np.array(\n",
        "[[[1,0,0,0,0,0,0,0,0],\n",
        "[0,1,0,0,0,0,0,0,0],\n",
        "[0,1,0,0,0,0,0,0,0],\n",
        "[0,0,0,0,0,0,0,0,0],\n",
        "[1,0,0,0,0,0,0,0,0],\n",
        "[0,0,0,0,0,0,0,0,0],\n",
        "[0,1,1,0,0,0,1,0,0],\n",
        "[0,0,0,0,0,0,0,0,0],\n",
        "[0,1,0,0,0,0,0,0,0],\n",
        "[0,0,0,0,0,0,1,0,0],\n",
        "[0,0,0,0,0,0,0,0,0],\n",
        "[0,0,0,0,0,0,0,0,0],\n",
        "[0,0,0,0,0,0,0,0,0],\n",
        "[0,0,0,0,0,0,0,0,0],\n",
        "[0,0,0,0,0,0,0,0,0],\n",
        "[0,0,0,0,0,0,0,0,0]],\n",
        "[[1,1,0,0,0,0,0,0,0],\n",
        "[0,0,1,0,0,0,0,0,0],\n",
        "[0,1,1,0,0,0,0,0,0],\n",
        "[0,0,0,0,0,1,0,0,0],\n",
        "[0,1,0,0,0,0,0,0,0],\n",
        "[0,0,0,0,0,0,0,0,0],\n",
        "[0,0,0,0,0,0,0,0,0],\n",
        "[0,0,0,0,0,0,0,0,0],\n",
        "[0,1,0,0,0,0,0,0,0],\n",
        "[0,0,0,0,0,0,0,0,0],\n",
        "[0,0,0,0,0,0,0,0,0],\n",
        "[0,0,0,0,0,0,0,0,0],\n",
        "[0,0,0,0,0,0,0,0,0],\n",
        "[0,0,0,0,0,0,0,0,0],\n",
        "[0,0,0,0,0,0,0,0,0],\n",
        "[0,0,0,0,0,0,0,0,0]],\n",
        "[[1,1,1,1,1,1,1,1,1],\n",
        "[1,1,1,1,1,1,1,1,1],\n",
        "[1,1,1,1,1,1,1,1,1],\n",
        "[1,1,1,1,1,1,1,1,1],\n",
        "[1,1,1,1,1,1,1,1,1],\n",
        "[1,1,1,1,1,1,1,1,1],\n",
        "[1,1,1,1,1,1,1,1,1],\n",
        "[1,1,1,1,1,1,1,1,1],\n",
        "[1,1,1,1,1,1,1,1,1],\n",
        "[1,1,1,1,1,1,1,1,1],\n",
        "[1,1,1,1,1,1,1,1,1],\n",
        "[1,1,1,1,1,1,1,1,1],\n",
        "[1,1,1,1,1,1,1,1,1],\n",
        "[1,1,1,1,1,1,1,1,1],\n",
        "[1,1,1,1,1,1,1,1,1],\n",
        "[1,1,1,1,1,1,1,1,1]],\n",
        "[[1,1,1,1,1,1,1,1,1],\n",
        "[1,1,1,1,1,1,1,1,1],\n",
        "[1,1,1,1,1,1,1,1,1],\n",
        "[1,1,1,1,1,1,1,1,1],\n",
        "[1,1,1,1,1,1,1,1,1],\n",
        "[1,1,1,1,1,1,1,1,1],\n",
        "[1,1,1,1,1,1,1,1,1],\n",
        "[1,1,1,1,1,1,1,1,1],\n",
        "[1,1,1,1,1,1,1,1,1],\n",
        "[1,1,1,1,1,1,1,1,1],\n",
        "[1,1,1,1,1,1,1,1,1],\n",
        "[1,1,1,1,1,1,1,1,1],\n",
        "[1,1,1,1,1,1,1,1,1],\n",
        "[0,0,0,0,0,0,0,0,0],\n",
        "[0,0,0,0,0,0,0,0,0],\n",
        "[0,0,0,0,0,0,0,0,0]]])"
      ],
      "execution_count": 16,
      "outputs": []
    },
    {
      "cell_type": "code",
      "metadata": {
        "id": "wP14WIsZb9rM"
      },
      "source": [
        "class Host(Agent):\n",
        "  \n",
        "    def __init__(self, model, species, viruses=None):\n",
        "        \"\"\"\n",
        "        Creates a new host organism\n",
        "        Args:\n",
        "            model: The model the host is a part of\n",
        "            species: The species the host is. Either \"Human\", \"Pig\", \"Bird\", or \"Poultry\".\n",
        "            viruses: The set of viruses currently infecting the host.\n",
        "        \"\"\"\n",
        " \n",
        "        super().__init__(model.next_id(), model)  # Initialize basic agent code, assign a unique id\n",
        "        self.model = model\n",
        " \n",
        "        self.species = species\n",
        "        assert species in [\"Human\", \"Pig\", \"Bird\", \"Poultry\"]\n",
        "\n",
        "        # assigns a species id to use to access values of contact rates adjacency matrix and \n",
        "        self.species_id = [\"Human\", \"Pig\", \"Bird\", \"Poultry\"].index(self.species)\n",
        "\n",
        "        #holder for viruses after contact before all individuals have contacted each other\n",
        "        self.temp_viruses = []\n",
        "\n",
        "        # Right now the viruses that a host has are listed in a set.\n",
        "        # todo: We'll explore using a matrix to store this info later to avoid loops.\n",
        "        self.viruses = set()\n",
        "        self.time_since_infection = 0\n",
        "        if viruses is not None:\n",
        "            self.viruses.add(viruses)\n",
        "        self.h_immune = set()\n",
        "        self.n_immune = set()\n",
        "        \n",
        "        for i in all_viruses:\n",
        "            exec(\"%s = %d\" % (\"self.\" + f\"H{i[0]+1}N{i[1]+1}\", int(i in self.viruses)))\n",
        "    \n",
        "    def contract_virus(self):\n",
        "        contacts = self.contacts()\n",
        "        self.temp_viruses = []\n",
        "        for contact in contacts:\n",
        "            for virus in contact.viruses:\n",
        "                if (self.is_infectable_by(virus)):\n",
        "                    self.infection_rate = self.model.infection_rate\n",
        "                    if (virus[0] in self.h_immune):\n",
        "                        self.infection_rate = self.infection_rate * 0.5\n",
        "                    if (virus[1] in self.n_immune):\n",
        "                        self.infection_rate = self.infection_rate * 0.5\n",
        "                    if (rand.random() <= self.infection_rate): #\n",
        "                        self.temp_viruses.append(virus)\n",
        "    \n",
        "    def recombine(self):\n",
        "        self.viruses = self.viruses.union(set(self.temp_viruses))\n",
        "        self.h = [item[0] for item in self.viruses]\n",
        "        self.n = [item[1] for item in self.viruses]\n",
        "        self.viruses= set([tuple(x) for x in itertools.product(self.h,self.n) if self.is_infectable_by(x)])\n",
        "\n",
        "    def recovery(self):\n",
        "        if (len(self.viruses) > 0):\n",
        "            self.time_since_infection = self.time_since_infection+1\n",
        "            self.recovery_chance = 0.55 * 0.95**(len(self.viruses)-1) * 1.3**(self.time_since_infection-1)\n",
        "            if (rand.random() <= self.recovery_chance):\n",
        "              self.time_since_infection = 0\n",
        "              self.h_immune = self.h_immune.union(set([item[0] for item in self.viruses]))\n",
        "              self.n_immune = self.n_immune.union(set([item[1] for item in self.viruses]))\n",
        "              self.viruses= set()\n",
        "\n",
        "        if (len(self.h_immune)>0):\n",
        "            self.h_immune = set([i for i in self.h_immune if (randint(0,19) < 18)])\n",
        "\n",
        "        if (len(self.n_immune)>0):\n",
        "            self.n_immune = set([i for i in self.n_immune if (randint(0,19) < 18)])\n",
        "\n",
        "        for i in all_viruses:\n",
        "            exec(\"%s = %d\" % (\"self.\"+ f\"H{i[0]+1}N{i[1]+1}\", int(i in self.viruses)))\n",
        "    \n",
        "    def birth_death(self):\n",
        "        if (randint(0,19) > 16):\n",
        "            host = Host(self.model, self.species)\n",
        "            self.model.schedule.add(host)\n",
        "        if (rand.random() < (0.1 * 1.2**len(self.viruses))):\n",
        "            self.model.schedule.remove(self)\n",
        "            self.viruses = set()\n",
        "\n",
        "    def is_infectable_by(self, virus):\n",
        "        \"\"\"Returns true if the virus can infect the host.\"\"\"\n",
        "        return infection_table[self.species_id][virus[0]][virus[1]]\n",
        " \n",
        "    def contacts(self):\n",
        "        contacts = []\n",
        "        \"\"\"Returns a list of other organism the host has contacted and got viruses from.\"\"\"\n",
        "        for i in range(4): \n",
        "            #contact_rate = self.model.contact_rates[self.species_id][i]\n",
        "            num_contacts = int(self.model.contact_rates[self.species_id][i][0])\n",
        "            #if (num_contacts < 0):\n",
        "            #    num_contacts=0\n",
        "            samp = sample([x for x in self.model.schedule.agents if x.species_id==i], num_contacts)\n",
        "            contacts = contacts + samp\n",
        "        return contacts\n",
        " \n",
        " \n",
        "class VirusModel(Model):\n",
        " \n",
        "    def __init__(self, run=\"NA\", init_pop_size=[700, 200, 500, 1000], x=0):\n",
        "        \"\"\"\n",
        "        Args:\n",
        "            run:\n",
        "            init_pop_size: The initial population size of each species [Humans, Pigs, Birds, Poultry]\n",
        "            x: Batch runner throws an error without a dummy variable to use as a variable parameter\n",
        "        \"\"\"\n",
        " \n",
        "        super().__init__()  # Initialize basic agent code, assign a unique id\n",
        "        self.x = x\n",
        "        self.run = run\n",
        "        self.running = True  # For batch runs\n",
        "        self.iteration = 0  # The number of timesteps the simulation has run\n",
        "        self.schedule = StagedActivation(self, [\"contract_virus\", \"recombine\", \"recovery\", \"birth_death\"], True, True)  # set schedule\n",
        "        self.infection_rate = 0.11 # infection rate\n",
        "\n",
        "        # Population sizes\n",
        "        self.human_pop_size = init_pop_size[0]\n",
        "        self.pig_pop_size = init_pop_size[1]\n",
        "        self.bird_pop_size = init_pop_size[2]\n",
        "        self.poultry_pop_size = init_pop_size[3]\n",
        "        self.total_pop_size = sum(init_pop_size)\n",
        " \n",
        "        # Adjacency matrix of gaussian contact rate distributions where entry ij is the contact rate species j to species i.\n",
        "        # 1 -> humans\n",
        "        # 2 -> pigs\n",
        "        # 3 -> poultry\n",
        "        # 4 -> wild birds\n",
        "        # todo: put more reasonable values and sd\n",
        "        self.contact_rates = np.array([[[5], [3], [3], [1]],\n",
        "                                       [[1], [10], [1], [2]],\n",
        "                                       [[3], [1], [20], [3]],\n",
        "                                       [[1], [3], [3], [15]]])\n",
        " \n",
        "        # initialize population\n",
        "        init_virus = None\n",
        "        for i in range(self.human_pop_size):\n",
        "            if (randint(0,44) == 0):\n",
        "                init_virus = choice([(0,0),(1,1),(2,1),(4,0),(6,1),(6,2),(6,6),(8,1),(9,6)])\n",
        "            host = Host(self, \"Human\", init_virus)\n",
        "            self.schedule.add(host)\n",
        "            init_virus = None\n",
        "        for i in range(self.pig_pop_size):\n",
        "            if (randint(0,44) == 0):\n",
        "                init_virus = choice([(0,0),(0,1),(1,2),(2,1),(2,2),(3,5),(4,1),(8,1)])\n",
        "            host = Host(self, \"Pig\",init_virus)\n",
        "            self.schedule.add(host)\n",
        "            init_virus = None\n",
        "        for i in range(self.bird_pop_size):\n",
        "            if (randint(0,44) == 0):\n",
        "                init_virus = (randint(0,15), randint(0,8))\n",
        "            host = Host(self, \"Bird\", init_virus)\n",
        "            self.schedule.add(host)\n",
        "            init_virus = None\n",
        "        for i in range(self.poultry_pop_size):\n",
        "            if (randint(0,44) == 0):\n",
        "                init_virus = (randint(0,12), randint(0,8))\n",
        "            host = Host(self, \"Poultry\", init_virus)\n",
        "            self.schedule.add(host)\n",
        "            init_virus = None\n",
        "        \n",
        "\n",
        "        reporters = \"{\\\"Species\\\":\\\"species\\\",\"\n",
        "        for i in all_viruses:\n",
        "            name = f\"H{i[0]+1}N{i[1]+1}\"\n",
        "            reporters = reporters + \"\\\"\" + name + \"\\\"\" + \":\" + \"\\\"\" + name + \"\\\"\" + \",\"\n",
        "        reporters = reporters[:-1] + \"}\"\n",
        "        self.datacollector = DataCollector(\n",
        "            #model_reporters={\"Strain_data\": Count_Strains}\n",
        "            agent_reporters = json.loads(reporters) \n",
        "        )  \n",
        "\n",
        "    def step(self):\n",
        "        \"\"\"Steps the entire model one time step.\"\"\"\n",
        " \n",
        "        self.iteration += 1\n",
        "        self.datacollector.collect(self)\n",
        "        self.schedule.step()  # step all agents\n",
        " \n",
        "        # todo: add data gathering"
      ],
      "execution_count": 18,
      "outputs": []
    },
    {
      "cell_type": "code",
      "metadata": {
        "id": "GsWdTK0eDLMg"
      },
      "source": [
        ""
      ],
      "execution_count": null,
      "outputs": []
    },
    {
      "cell_type": "code",
      "metadata": {
        "id": "8u4kJvm3GnPY"
      },
      "source": [
        "df = None"
      ],
      "execution_count": 19,
      "outputs": []
    },
    {
      "cell_type": "code",
      "metadata": {
        "id": "yGXbcLE9cPvO"
      },
      "source": [
        "fixed_params = {\"run\": \"NA\",\n",
        "               \"init_pop_size\": [600, 200, 400, 800]}\n",
        "variable_params = {\"x\":[0]}"
      ],
      "execution_count": 20,
      "outputs": []
    },
    {
      "cell_type": "code",
      "metadata": {
        "id": "T8NIj0eZcQWg"
      },
      "source": [
        "batch_run = BatchRunner(VirusModel,\n",
        "                        fixed_parameters=fixed_params,\n",
        "                        variable_parameters=variable_params,\n",
        "                        iterations=1,\n",
        "                        max_steps=30,\n",
        "                        display_progress=True\n",
        "                        )"
      ],
      "execution_count": 21,
      "outputs": []
    },
    {
      "cell_type": "code",
      "metadata": {
        "colab": {
          "base_uri": "https://localhost:8080/"
        },
        "id": "l0UBQ9NecV27",
        "outputId": "7cd02d93-9cd4-4c3e-8625-0348323cc327"
      },
      "source": [
        "batch_run.run_all()"
      ],
      "execution_count": null,
      "outputs": [
        {
          "output_type": "stream",
          "text": [
            "\r0it [00:00, ?it/s]"
          ],
          "name": "stderr"
        }
      ]
    },
    {
      "cell_type": "code",
      "metadata": {
        "id": "iv7xomS6kAU5"
      },
      "source": [
        "agent_data = batch_run.get_collector_agents()"
      ],
      "execution_count": null,
      "outputs": []
    },
    {
      "cell_type": "code",
      "metadata": {
        "id": "6VzbawNwei2P"
      },
      "source": [
        "df = agent_data[(0,0)]\n",
        "\n",
        "df.to_csv(\"data4.csv\")"
      ],
      "execution_count": null,
      "outputs": []
    }
  ]
}